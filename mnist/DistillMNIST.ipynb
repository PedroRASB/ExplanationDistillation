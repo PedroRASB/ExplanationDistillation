{
 "cells": [
  {
   "cell_type": "markdown",
   "id": "469c9bba",
   "metadata": {},
   "source": [
    "# ERM"
   ]
  },
  {
   "cell_type": "code",
   "execution_count": null,
   "id": "fca38234",
   "metadata": {},
   "outputs": [],
   "source": [
    "%run RunERM.py --continuing 0 --bias 1 --heat 0 --workers 8 \\\n",
    "--devices [0] --name R18ERM_MNISTCOlor --P 0 \\\n",
    "--batch 128 --backbone resnet18 --precision 32 --lr 1e-2 --epochs 100 --WD 0 --colors 1"
   ]
  },
  {
   "cell_type": "markdown",
   "id": "0c53a340",
   "metadata": {},
   "source": [
    "# Distill Outputs"
   ]
  },
  {
   "cell_type": "code",
   "execution_count": null,
   "id": "8a8a2ae1",
   "metadata": {},
   "outputs": [],
   "source": [
    "%run PairingCode.py --device [0] --continuing 0 --bias 1 \\\n",
    "--name OutputDistillMNISTColorLr2 \\\n",
    "--alpha 1 --beta 0 --gamma 0 --delta 0 \\\n",
    "--CELogits 1 --epochs 100 \\\n",
    "--typeBias color --lr 1e-2 --beginAsTeacher 0 --freezeLast 0 \\\n",
    "--teacher ../Trained/Teacher.pt"
   ]
  },
  {
   "cell_type": "markdown",
   "id": "c9188556",
   "metadata": {},
   "source": [
    "# Distill LRP"
   ]
  },
  {
   "cell_type": "code",
   "execution_count": null,
   "id": "368a5450",
   "metadata": {},
   "outputs": [],
   "source": [
    "%run PairingCode.py --device [0] --continuing 0 --bias 1 \\\n",
    "--name LRPDistillMNISTColorlr2Eps21 \\\n",
    "--epochs 100 --epsLow 2 --epsHigh 1 \\\n",
    "--alpha 0 --beta 0 --gamma 0 --delta 1 \\\n",
    "--typeBias color --lr 1e-2 --beginAsTeacher 0 --freezeLast 1 \\\n",
    "--teacher ../Trained/Teacher.pt"
   ]
  },
  {
   "cell_type": "markdown",
   "id": "c91ef136",
   "metadata": {},
   "source": [
    "# Distill features"
   ]
  },
  {
   "cell_type": "code",
   "execution_count": null,
   "id": "9547efc0",
   "metadata": {},
   "outputs": [],
   "source": [
    "%run PairingCode.py --device [0] --continuing 0 --bias 1 \\\n",
    "--name FeatDistillMNISTColorLr2 \\\n",
    "--alpha 0 --beta 1 --gamma 0 --delta 0 \\\n",
    "--CELogits 1 --LRPlossOnFeatures 1 \\\n",
    "--typeBias color --lr 1e-2 --beginAsTeacher 0 --freezeLast 1 --epochs 100 \\\n",
    "--teacher ../Trained/Teacher.pt"
   ]
  },
  {
   "cell_type": "markdown",
   "id": "0d8dcbce",
   "metadata": {},
   "source": [
    "# Distill Gradient*Input"
   ]
  },
  {
   "cell_type": "code",
   "execution_count": null,
   "id": "afa1585b",
   "metadata": {},
   "outputs": [],
   "source": [
    "%run PairingCode.py --device [0] --continuing 0 --bias 1 \\\n",
    "--name GradInputDistillMNISTColorlr3mom95 \\\n",
    "--epochs 200 \\\n",
    "--alpha 0 --beta 0 --gamma 0 --delta 1 \\\n",
    "--typeBias color --lr 1e-3 --beginAsTeacher 0 --freezeLast 1 --momentum 0.95  \\\n",
    "--pencentageEpsZero 1 --inputGradAblation 0 \\\n",
    "--teacher ../Trained/Teacher.pt"
   ]
  },
  {
   "cell_type": "markdown",
   "id": "83e98725",
   "metadata": {},
   "source": [
    "# Distill Input Gradients"
   ]
  },
  {
   "cell_type": "code",
   "execution_count": null,
   "id": "828ce8f8",
   "metadata": {},
   "outputs": [],
   "source": [
    "%run PairingCode.py --device [0] --continuing 0 --bias 1 \\\n",
    "--name GradDistillMNISTColorlr3mom95 \\\n",
    "--epochs 200 \\\n",
    "--alpha 0 --beta 0 --gamma 0 --delta 1 --momentum 0.95 \\\n",
    "--typeBias color --lr 1e-3 --beginAsTeacher 0 --freezeLast 1 \\\n",
    "--pencentageEpsZero 1 --inputGradAblation 1 \\\n",
    "--teacher ../Trained/Teacher.pt"
   ]
  }
 ],
 "metadata": {
  "kernelspec": {
   "display_name": "Python [conda env:explanation_distillation]",
   "language": "python",
   "name": "conda-env-explanation_distillation-py"
  },
  "language_info": {
   "codemirror_mode": {
    "name": "ipython",
    "version": 3
   },
   "file_extension": ".py",
   "mimetype": "text/x-python",
   "name": "python",
   "nbconvert_exporter": "python",
   "pygments_lexer": "ipython3",
   "version": "3.9.12"
  }
 },
 "nbformat": 4,
 "nbformat_minor": 5
}
